{
 "cells": [
  {
   "cell_type": "markdown",
   "id": "e1e99f88-c9b0-4f66-9862-c3887fb47c38",
   "metadata": {},
   "source": [
    "# Sentiment analysis with lstm"
   ]
  },
  {
   "cell_type": "code",
   "execution_count": 3,
   "id": "34615019-c9de-4220-a391-770a6a1d74f1",
   "metadata": {},
   "outputs": [],
   "source": [
    "import pandas as pd\n",
    "import numpy as np\n",
    "from sklearn.model_selection import train_test_split\n",
    "from sklearn.preprocessing import LabelEncoder\n",
    "from tensorflow.keras.preprocessing.text import Tokenizer\n",
    "from tensorflow.keras.preprocessing.sequence import pad_sequences\n",
    "from tensorflow.keras.models import Sequential\n",
    "from tensorflow.keras.layers import Embedding, LSTM, Dense, Dropout\n",
    "from tensorflow.keras.utils import to_categorical"
   ]
  },
  {
   "cell_type": "code",
   "execution_count": 5,
   "id": "c319d137-ed74-4a8c-83ea-d0dab7804a25",
   "metadata": {},
   "outputs": [
    {
     "data": {
      "text/html": [
       "<div>\n",
       "<style scoped>\n",
       "    .dataframe tbody tr th:only-of-type {\n",
       "        vertical-align: middle;\n",
       "    }\n",
       "\n",
       "    .dataframe tbody tr th {\n",
       "        vertical-align: top;\n",
       "    }\n",
       "\n",
       "    .dataframe thead th {\n",
       "        text-align: right;\n",
       "    }\n",
       "</style>\n",
       "<table border=\"1\" class=\"dataframe\">\n",
       "  <thead>\n",
       "    <tr style=\"text-align: right;\">\n",
       "      <th></th>\n",
       "      <th>Text</th>\n",
       "      <th>Score</th>\n",
       "    </tr>\n",
       "  </thead>\n",
       "  <tbody>\n",
       "    <tr>\n",
       "      <th>0</th>\n",
       "      <td>I have bought several of the Vitality canned d...</td>\n",
       "      <td>5</td>\n",
       "    </tr>\n",
       "    <tr>\n",
       "      <th>1</th>\n",
       "      <td>Product arrived labeled as Jumbo Salted Peanut...</td>\n",
       "      <td>1</td>\n",
       "    </tr>\n",
       "    <tr>\n",
       "      <th>2</th>\n",
       "      <td>This is a confection that has been around a fe...</td>\n",
       "      <td>4</td>\n",
       "    </tr>\n",
       "    <tr>\n",
       "      <th>3</th>\n",
       "      <td>If you are looking for the secret ingredient i...</td>\n",
       "      <td>2</td>\n",
       "    </tr>\n",
       "    <tr>\n",
       "      <th>4</th>\n",
       "      <td>Great taffy at a great price.  There was a wid...</td>\n",
       "      <td>5</td>\n",
       "    </tr>\n",
       "  </tbody>\n",
       "</table>\n",
       "</div>"
      ],
      "text/plain": [
       "                                                Text  Score\n",
       "0  I have bought several of the Vitality canned d...      5\n",
       "1  Product arrived labeled as Jumbo Salted Peanut...      1\n",
       "2  This is a confection that has been around a fe...      4\n",
       "3  If you are looking for the secret ingredient i...      2\n",
       "4  Great taffy at a great price.  There was a wid...      5"
      ]
     },
     "execution_count": 5,
     "metadata": {},
     "output_type": "execute_result"
    }
   ],
   "source": [
    "# Load dataset\n",
    "df = pd.read_csv('archive/Reviews.csv') \n",
    "df=df[['Text','Score']]\n",
    "df.head()"
   ]
  },
  {
   "cell_type": "code",
   "execution_count": 7,
   "id": "b121f03a-6f49-4c1e-80e4-8efb1a66e45d",
   "metadata": {},
   "outputs": [],
   "source": [
    "# Convert Scores to binary sentiment (Positive: 4, 5 -> 1; Negative: 1, 2 -> 0; Neutral -> Drop)\n",
    "df['Sentiment'] = df['Score'].apply(lambda x: 1 if x > 3 else (0 if x < 3 else None))\n",
    "df = df.dropna(subset=['Sentiment'])"
   ]
  },
  {
   "cell_type": "code",
   "execution_count": 9,
   "id": "e6317efc-d37f-4b90-95e5-c87073b39e92",
   "metadata": {},
   "outputs": [],
   "source": [
    "# Step 2: Tokenize and pad sequences\n",
    "texts = df['Text'].values\n",
    "sentiments = df['Sentiment'].values"
   ]
  },
  {
   "cell_type": "code",
   "execution_count": 11,
   "id": "02965082-0c76-49f8-8acf-b1396f6d877f",
   "metadata": {},
   "outputs": [],
   "source": [
    "# Tokenization\n",
    "tokenizer = Tokenizer(num_words=20000)  # Keep the top 20,000 most frequent words\n",
    "tokenizer.fit_on_texts(texts)\n",
    "sequences = tokenizer.texts_to_sequences(texts)"
   ]
  },
  {
   "cell_type": "code",
   "execution_count": 13,
   "id": "29601ab2-9433-444e-baf5-0de3c490368d",
   "metadata": {},
   "outputs": [],
   "source": [
    "# Padding\n",
    "max_length = 100  # Adjust based on your data's average text length\n",
    "X = pad_sequences(sequences, maxlen=max_length)\n",
    "y = to_categorical(sentiments)  # One-hot encode the sentiments"
   ]
  },
  {
   "cell_type": "code",
   "execution_count": 15,
   "id": "d2fa6145-821d-43d3-91d5-beed831d4dec",
   "metadata": {},
   "outputs": [],
   "source": [
    "X_train, X_test, y_train, y_test = train_test_split(X, y, test_size=0.2, random_state=42)"
   ]
  },
  {
   "cell_type": "code",
   "execution_count": 21,
   "id": "68882871-b647-4752-9d55-6be424c0f318",
   "metadata": {},
   "outputs": [
    {
     "name": "stderr",
     "output_type": "stream",
     "text": [
      "/home/bikash/anaconda3/lib/python3.12/site-packages/keras/src/layers/core/embedding.py:90: UserWarning: Argument `input_length` is deprecated. Just remove it.\n",
      "  warnings.warn(\n"
     ]
    }
   ],
   "source": [
    "# Step 4: Build the LSTM model\n",
    "model = Sequential([\n",
    "    Embedding(input_dim=20000, output_dim=128, input_length=max_length),\n",
    "    LSTM(128, dropout=0.2, recurrent_dropout=0.2),\n",
    "    Dense(128, activation='relu'),\n",
    "    Dropout(0.5),\n",
    "    Dense(2, activation='softmax')  # 2 classes: Positive and Negative\n",
    "])\n",
    "model.compile(optimizer='adam', loss='categorical_crossentropy', metrics=['accuracy'])\n"
   ]
  },
  {
   "cell_type": "code",
   "execution_count": 23,
   "id": "4311da8a-69bc-4f44-8545-e9f7f35ecb92",
   "metadata": {},
   "outputs": [
    {
     "name": "stdout",
     "output_type": "stream",
     "text": [
      "Epoch 1/5\n",
      "\u001b[1m5259/5259\u001b[0m \u001b[32m━━━━━━━━━━━━━━━━━━━━\u001b[0m\u001b[37m\u001b[0m \u001b[1m364s\u001b[0m 69ms/step - accuracy: 0.9044 - loss: 0.2444 - val_accuracy: 0.9475 - val_loss: 0.1405\n",
      "Epoch 2/5\n",
      "\u001b[1m5259/5259\u001b[0m \u001b[32m━━━━━━━━━━━━━━━━━━━━\u001b[0m\u001b[37m\u001b[0m \u001b[1m445s\u001b[0m 85ms/step - accuracy: 0.9561 - loss: 0.1205 - val_accuracy: 0.9576 - val_loss: 0.1159\n",
      "Epoch 3/5\n",
      "\u001b[1m5259/5259\u001b[0m \u001b[32m━━━━━━━━━━━━━━━━━━━━\u001b[0m\u001b[37m\u001b[0m \u001b[1m467s\u001b[0m 89ms/step - accuracy: 0.9697 - loss: 0.0864 - val_accuracy: 0.9620 - val_loss: 0.1063\n",
      "Epoch 4/5\n",
      "\u001b[1m5259/5259\u001b[0m \u001b[32m━━━━━━━━━━━━━━━━━━━━\u001b[0m\u001b[37m\u001b[0m \u001b[1m457s\u001b[0m 87ms/step - accuracy: 0.9782 - loss: 0.0628 - val_accuracy: 0.9631 - val_loss: 0.1178\n",
      "Epoch 5/5\n",
      "\u001b[1m5259/5259\u001b[0m \u001b[32m━━━━━━━━━━━━━━━━━━━━\u001b[0m\u001b[37m\u001b[0m \u001b[1m451s\u001b[0m 86ms/step - accuracy: 0.9836 - loss: 0.0473 - val_accuracy: 0.9624 - val_loss: 0.1259\n"
     ]
    }
   ],
   "source": [
    "# Step 5: Train the model\n",
    "history = model.fit(X_train, y_train, validation_split=0.2, epochs=5, batch_size=64)"
   ]
  },
  {
   "cell_type": "code",
   "execution_count": 27,
   "id": "66862a1f-6571-4109-817f-d4dcca5f292b",
   "metadata": {},
   "outputs": [
    {
     "name": "stdout",
     "output_type": "stream",
     "text": [
      "\u001b[1m3287/3287\u001b[0m \u001b[32m━━━━━━━━━━━━━━━━━━━━\u001b[0m\u001b[37m\u001b[0m \u001b[1m52s\u001b[0m 16ms/step - accuracy: 0.9635 - loss: 0.1225\n",
      "Test Loss: 0.12408111989498138\n",
      "Test Accuracy: 0.963238000869751\n"
     ]
    }
   ],
   "source": [
    "test_loss, test_accuracy = model.evaluate(X_test, y_test)\n",
    "print(f\"Test Loss: {test_loss}\")\n",
    "print(f\"Test Accuracy: {test_accuracy}\")"
   ]
  },
  {
   "cell_type": "code",
   "execution_count": 31,
   "id": "459eb167-58e8-4a67-9484-587ee39a57fe",
   "metadata": {},
   "outputs": [
    {
     "name": "stdout",
     "output_type": "stream",
     "text": [
      "Tokenizer saved successfully.\n"
     ]
    }
   ],
   "source": [
    "import joblib\n",
    "\n",
    "# Save the tokenizer\n",
    "joblib.dump(tokenizer, 'tokenizer.pkl')\n",
    "print(\"Tokenizer saved successfully.\")\n"
   ]
  },
  {
   "cell_type": "code",
   "execution_count": 25,
   "id": "bb398348-ed2f-4d3e-a009-fcc0a08287d5",
   "metadata": {},
   "outputs": [
    {
     "name": "stderr",
     "output_type": "stream",
     "text": [
      "WARNING:absl:You are saving your model as an HDF5 file via `model.save()` or `keras.saving.save_model(model)`. This file format is considered legacy. We recommend using instead the native Keras format, e.g. `model.save('my_model.keras')` or `keras.saving.save_model(model, 'my_model.keras')`. \n"
     ]
    },
    {
     "name": "stdout",
     "output_type": "stream",
     "text": [
      "Model saved successfully.\n"
     ]
    }
   ],
   "source": [
    "# Save the model\n",
    "model.save('sentiment_lstm_model.h5')\n",
    "print(\"Model saved successfully.\")\n"
   ]
  },
  {
   "cell_type": "code",
   "execution_count": null,
   "id": "90196906-1a10-4944-aca7-2b571adeaed2",
   "metadata": {},
   "outputs": [],
   "source": []
  }
 ],
 "metadata": {
  "kernelspec": {
   "display_name": "Python 3 (ipykernel)",
   "language": "python",
   "name": "python3"
  },
  "language_info": {
   "codemirror_mode": {
    "name": "ipython",
    "version": 3
   },
   "file_extension": ".py",
   "mimetype": "text/x-python",
   "name": "python",
   "nbconvert_exporter": "python",
   "pygments_lexer": "ipython3",
   "version": "3.12.4"
  }
 },
 "nbformat": 4,
 "nbformat_minor": 5
}
